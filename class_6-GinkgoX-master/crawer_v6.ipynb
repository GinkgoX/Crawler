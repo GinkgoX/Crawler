{
 "cells": [
  {
   "cell_type": "code",
   "execution_count": 3,
   "metadata": {},
   "outputs": [],
   "source": [
    "import jieba\n",
    "import string\n",
    "from IPython.display import HTML\n",
    "import InvertSearch\n",
    "\n",
    "class InvertSeach2():\n",
    "    #\n",
    "    def __init__(self, doc_file):\n",
    "        '''\n",
    "        init term, doc_id, doc_list from doc_file\n",
    "        '''\n",
    "        self.terms = dict()\n",
    "        self.doc_id = 0\n",
    "        self.doc_list = []\n",
    "        \n",
    "        #read doc_file\n",
    "        with open(doc_file, 'r') as f:\n",
    "            data= f.readlines()\n",
    "            data = set(data)\n",
    "            f.close()\n",
    "        \n",
    "        #update doc_listselfand doc_id, terms\n",
    "        for doc in data:\n",
    "            self.insert(doc)\n",
    "     \n",
    "    def extender(self, state, cache, cutflage=0):\n",
    "        '''\n",
    "        extend cache to result depending on state and cutflage: 0 cut_for_search, 1 cut\n",
    "        '''\n",
    "        result = []\n",
    "        if state:\n",
    "            result.append(cache)\n",
    "        else:\n",
    "            if cutflage == 0:\n",
    "                result.extend(list(jieba.cut_for_search(cache)))\n",
    "            elif cutflage == 1:\n",
    "                result.extend(list(jieba.cut(cache)))\n",
    "            else:\n",
    "                print('Worning! cutflage is only 0 and 1 is available. predefined as 0 cut_for_search')\n",
    "                result.extend(list(jieba.cut_for_search(cache)))\n",
    "        return result\n",
    "    \n",
    "    def parse_doc(self, doc, cutflage=0):\n",
    "        '''\n",
    "        set up Chinese and English identifier\n",
    "        '''\n",
    "        result = []\n",
    "        cache = ''\n",
    "        e_sign = ['-', ':', '.', '!']\n",
    "        last_state = ''  \n",
    "        for c in doc:\n",
    "            cur_state = c in string.ascii_letters or c.isdigit() or c in e_sign\n",
    "            if c == ' ':\n",
    "                result.extend(self.extender(last_state, cache, cutflage))\n",
    "                result.append(' ');\n",
    "                cache = ''\n",
    "                last_state = ''\n",
    "            else:\n",
    "                if last_state == cur_state:\n",
    "                    cache += c\n",
    "                else:\n",
    "                    result.extend(self.extender(last_state, cache,cutflage))\n",
    "                    cache = c\n",
    "                last_state = cur_state\n",
    "        if cache:\n",
    "            result.extend(self.extender(last_state, cache, cutflage))\n",
    "        return result\n",
    "    \n",
    "    #over write insert method\n",
    "    def insert(self, doc):\n",
    "        '''\n",
    "        add doc to original doc list\n",
    "        '''\n",
    "        self.doc_list.append(doc)\n",
    "        for term in self.parse_doc(doc):\n",
    "            if term in self.terms:\n",
    "                self.terms[term].add(self.doc_id)\n",
    "            else:\n",
    "                self.terms[term] = set([self.doc_id])\n",
    "        self.doc_id += 1\n",
    "        return self.doc_id + 1\n",
    "    \n",
    "    #over write find method\n",
    "    def find(self, keywords):\n",
    "        '''\n",
    "        find keywords in terms reuturn each term set result\n",
    "        '''\n",
    "        result = None\n",
    "        for word in self.parse_doc(keywords, cutflage=1):\n",
    "            if result is None:\n",
    "                result = self.terms.get(word, set())\n",
    "            else:\n",
    "                result = result & self.terms.get(word, set())\n",
    "        if result is None:\n",
    "            result = set()\n",
    "        return result\n",
    "    \n",
    "    #over write convert method\n",
    "    def convert(self, keywords):\n",
    "        '''\n",
    "        convert keywords into set expression\n",
    "        '''\n",
    "        result = ''\n",
    "        #convet keywords to standard match format\n",
    "        keywords_ = keywords.split()\n",
    "        keywords = ' '.join(keywords_)\n",
    "        word = self.parse_doc(keywords, cutflage=1)\n",
    "        print('|'.join(word))\n",
    "        sign = ['(', ')', 'and', 'AND', 'or', 'OR', 'not', 'NOT', '-', ' ']\n",
    "        id = 0\n",
    "        num = len(word)\n",
    "        while id < num:\n",
    "            if word[id] == '(' or word[id] == ')' or word[id] == ' ':\n",
    "                result += word[id]\n",
    "            elif word[id] == 'and' or word[id] == 'AND':\n",
    "                result += '&'\n",
    "            elif word[id] == 'or' or word[id] == 'OR':\n",
    "                result += '|'\n",
    "            elif word[id] == 'not' or word[id] == 'NOT'or word[id] == '-':\n",
    "                result += '-'\n",
    "            elif id + 1 < num and word[id+1] not in(' ', ')'):\n",
    "                result +=  'self.find(\"{}\")'.format(word[id]) + ' & '\n",
    "            elif id + 2< num and word[id+2] not in sign:\n",
    "                result += 'self.find(\"{}\")'.format(word[id]) + ' & ' 'self.find(\"{}\")'.format(word[id+2])\n",
    "                id += 3\n",
    "                continue\n",
    "            else:\n",
    "                result +=  'self.find(\"{}\")'.format(word[id])\n",
    "            id += 1\n",
    "        return result\n",
    "    \n",
    "    #over write hightlight method\n",
    "    def hightlight(self, doc, keywords):\n",
    "        '''\n",
    "        hightlight keywords in doc\n",
    "        '''\n",
    "        sign = ['(', ')', 'and', 'AND', 'or', 'OR', 'not', 'NOT', '-', ' ']\n",
    "        for word in self.parse_doc(keywords, cutflage=1):\n",
    "            if word not in sign:\n",
    "                doc = doc.replace(word, '<span style=\"color:red\">{}</span>'.format(word))\n",
    "        return doc\n",
    "\n",
    "    def search(self, keywords):\n",
    "        '''\n",
    "        searh keywords in doc_list by invert search\n",
    "        '''\n",
    "        result = []\n",
    "        result_ = self.convert(keywords)\n",
    "        print(result_)\n",
    "        print(eval(result_))\n",
    "        for id in eval(result_):\n",
    "            result.append(self.hightlight(self.doc_list[id], keywords))\n",
    "        return result"
   ]
  },
  {
   "cell_type": "code",
   "execution_count": 6,
   "metadata": {},
   "outputs": [
    {
     "name": "stdout",
     "output_type": "stream",
     "text": [
      "中国女排| |or| |3-0\n",
      "self.find(\"中国女排\") | self.find(\"3-0\")\n",
      "{274, 323, 6, 143}\n"
     ]
    },
    {
     "data": {
      "text/html": [
       "欧冠-迪马利亚2球贝尔+笨马进球被吹 巴黎<span style=\"color:red\">3-0</span>\n"
      ],
      "text/plain": [
       "<IPython.core.display.HTML object>"
      ]
     },
     "metadata": {},
     "output_type": "display_data"
    },
    {
     "data": {
      "text/html": [
       "一边倒！<span style=\"color:red\">中国女排</span><span style=\"color:red\">3-0</span>横扫美国取七连胜 朱婷23\n"
      ],
      "text/plain": [
       "<IPython.core.display.HTML object>"
      ]
     },
     "metadata": {},
     "output_type": "display_data"
    },
    {
     "data": {
      "text/html": [
       "碾压！<span style=\"color:red\">中国女排</span><span style=\"color:red\">3-0</span>横扫日本 世界杯轻取五连胜\n"
      ],
      "text/plain": [
       "<IPython.core.display.HTML object>"
      ]
     },
     "metadata": {},
     "output_type": "display_data"
    },
    {
     "data": {
      "text/html": [
       "3-2艰难逆转!<span style=\"color:red\">中国女排</span>力挫巴西 惊险夺世界杯6\n"
      ],
      "text/plain": [
       "<IPython.core.display.HTML object>"
      ]
     },
     "metadata": {},
     "output_type": "display_data"
    }
   ],
   "source": [
    "searcher = InvertSeach2('titles.txt')\n",
    "\n",
    "keywords = '中国女排 or 3-0 '\n",
    "result = searcher.search(keywords)\n",
    "if result:\n",
    "    for doc in result:\n",
    "        display(HTML(doc))\n",
    "else:\n",
    "    print('No result.')"
   ]
  }
 ],
 "metadata": {
  "kernelspec": {
   "display_name": "Python 3",
   "language": "python",
   "name": "python3"
  },
  "language_info": {
   "codemirror_mode": {
    "name": "ipython",
    "version": 3
   },
   "file_extension": ".py",
   "mimetype": "text/x-python",
   "name": "python",
   "nbconvert_exporter": "python",
   "pygments_lexer": "ipython3",
   "version": "3.6.5"
  }
 },
 "nbformat": 4,
 "nbformat_minor": 2
}
