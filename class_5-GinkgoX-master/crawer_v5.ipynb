{
 "cells": [
  {
   "cell_type": "code",
   "execution_count": 2,
   "metadata": {},
   "outputs": [
    {
     "name": "stdout",
     "output_type": "stream",
     "text": [
      "华为\n",
      "self.find(\"华为\")\n",
      "{320, 385, 448, 165, 485, 456, 363, 173, 242, 407, 281, 27, 157}\n"
     ]
    },
    {
     "data": {
      "text/html": [
       "全民支持的<span style=\"color:red\">华为</span>为何输给了iPhone XR？\n"
      ],
      "text/plain": [
       "<IPython.core.display.HTML object>"
      ]
     },
     "metadata": {},
     "output_type": "display_data"
    },
    {
     "data": {
      "text/html": [
       "<span style=\"color:red\">华为</span>发布Mate30系列手机：电池最大4500m\n"
      ],
      "text/plain": [
       "<IPython.core.display.HTML object>"
      ]
     },
     "metadata": {},
     "output_type": "display_data"
    },
    {
     "data": {
      "text/html": [
       "与<span style=\"color:red\">华为</span>5G\"近身肉搏\" 美国芯片巨头高通\"放大招\n"
      ],
      "text/plain": [
       "<IPython.core.display.HTML object>"
      ]
     },
     "metadata": {},
     "output_type": "display_data"
    },
    {
     "data": {
      "text/html": [
       "iPhone11和<span style=\"color:red\">华为</span>Mate30拍照对比：差距\n"
      ],
      "text/plain": [
       "<IPython.core.display.HTML object>"
      ]
     },
     "metadata": {},
     "output_type": "display_data"
    },
    {
     "data": {
      "text/html": [
       "任正非:我不是中国乔布斯 <span style=\"color:red\">华为</span>永远都拥抱美国公\n"
      ],
      "text/plain": [
       "<IPython.core.display.HTML object>"
      ]
     },
     "metadata": {},
     "output_type": "display_data"
    },
    {
     "data": {
      "text/html": [
       "苹果首次怼<span style=\"color:red\">华为</span> 是因抢跑5G的<span style=\"color:red\">华为</span>走向了苹果模式\n"
      ],
      "text/plain": [
       "<IPython.core.display.HTML object>"
      ]
     },
     "metadata": {},
     "output_type": "display_data"
    },
    {
     "data": {
      "text/html": [
       "任正非：我不是中国乔布斯 <span style=\"color:red\">华为</span>永远会拥抱美国 \n"
      ],
      "text/plain": [
       "<IPython.core.display.HTML object>"
      ]
     },
     "metadata": {},
     "output_type": "display_data"
    },
    {
     "data": {
      "text/html": [
       "外媒评<span style=\"color:red\">华为</span>Mate 30 Pro：硬件超棒 软件\n"
      ],
      "text/plain": [
       "<IPython.core.display.HTML object>"
      ]
     },
     "metadata": {},
     "output_type": "display_data"
    },
    {
     "data": {
      "text/html": [
       "任正非：我不是中国乔布斯 <span style=\"color:red\">华为</span>永远会拥抱美国公司\n"
      ],
      "text/plain": [
       "<IPython.core.display.HTML object>"
      ]
     },
     "metadata": {},
     "output_type": "display_data"
    },
    {
     "data": {
      "text/html": [
       "<span style=\"color:red\">华为</span>Mate30采用安卓系统 未采用鸿蒙OS\n"
      ],
      "text/plain": [
       "<IPython.core.display.HTML object>"
      ]
     },
     "metadata": {},
     "output_type": "display_data"
    },
    {
     "data": {
      "text/html": [
       "可安装谷歌GMS！<span style=\"color:red\">华为</span>Mate30确认支持Boo\n"
      ],
      "text/plain": [
       "<IPython.core.display.HTML object>"
      ]
     },
     "metadata": {},
     "output_type": "display_data"
    },
    {
     "data": {
      "text/html": [
       "比亚迪\"救火\"<span style=\"color:red\">华为</span> 这组深圳\"CP\"要擦出5G火\n"
      ],
      "text/plain": [
       "<IPython.core.display.HTML object>"
      ]
     },
     "metadata": {},
     "output_type": "display_data"
    },
    {
     "data": {
      "text/html": [
       "外媒揭秘苹果A13芯片：比三星<span style=\"color:red\">华为</span>高通芯片好在哪\n"
      ],
      "text/plain": [
       "<IPython.core.display.HTML object>"
      ]
     },
     "metadata": {},
     "output_type": "display_data"
    }
   ],
   "source": [
    "from IPython.display import HTML\n",
    "import jieba\n",
    "\n",
    "class InvertSearch():\n",
    "    '''\n",
    "    InvertSearch() class convert forward seach to backword seach\n",
    "    '''\n",
    "    def __init__(self, doc_file):\n",
    "        '''\n",
    "        init term, doc_id, doc_list from doc_file\n",
    "        '''\n",
    "        self.terms = dict()\n",
    "        self.doc_id = 0\n",
    "        self.doc_list = []\n",
    "        \n",
    "        #read doc_file\n",
    "        with open(doc_file, 'r') as f:\n",
    "            data= f.readlines()\n",
    "            data = set(data)\n",
    "            f.close()\n",
    "        \n",
    "        #update doc_listselfand doc_id, terms\n",
    "        for doc in data:\n",
    "            self.insert(doc)\n",
    "\n",
    "    def insert(self, doc):\n",
    "        '''\n",
    "        insert doc into doc_list return doc_id\n",
    "        '''\n",
    "        self.doc_list.append(doc)\n",
    "        for term in list(jieba.cut(doc)):\n",
    "            if term not in self.terms:\n",
    "                self.terms[term] = set([self.doc_id])\n",
    "            self.terms[term].add(self.doc_id)\n",
    "        self.doc_id += 1\n",
    "        return self.doc_id - 1\n",
    "    \n",
    "    def find(self, keywords):\n",
    "        '''\n",
    "        find keywords in terms reuturn each term set result\n",
    "        '''\n",
    "        result = None\n",
    "        for word in list(jieba.cut(keywords)):\n",
    "            if result is None:\n",
    "                result = self.terms.get(word, set())\n",
    "            else:\n",
    "                result = result & self.terms.get(word, set())\n",
    "        if result is None:\n",
    "            result = set()\n",
    "        return result\n",
    "    \n",
    "    def convert(self, keywords):\n",
    "        '''\n",
    "        convert keywords into set expression\n",
    "        '''\n",
    "        result = ''\n",
    "        #convet keywords to standard match format\n",
    "        keywords_ = keywords.split()\n",
    "        keywords = ' '.join(keywords_)\n",
    "        word = list(jieba.cut(keywords))\n",
    "        print('|'.join(word))\n",
    "        sign = ['(', ')', 'and', 'AND', 'or', 'OR', 'not', 'NOT', ' ']\n",
    "        id = 0\n",
    "        num = len(word)\n",
    "        while id < num:\n",
    "            if word[id] == '(' or word[id] == ')' or word[id] == ' ':\n",
    "                result += word[id]\n",
    "            elif word[id] == 'and' or word[id] == 'AND':\n",
    "                result += '&'\n",
    "            elif word[id] == 'or' or word[id] == 'OR':\n",
    "                result += '|'\n",
    "            elif word[id] == 'not' or word[id] == 'NOT'or word[id] == '-':\n",
    "                result += '-'\n",
    "            elif id + 1 < num and word[id+1] not in(' ', ')'):\n",
    "                result +=  'self.find(\"{}\")'.format(word[id]) + ' & '\n",
    "            elif id + 2< num and word[id+2] not in sign:\n",
    "                result += 'self.find(\"{}\")'.format(word[id]) + ' & ' 'self.find(\"{}\")'.format(word[id+2])\n",
    "                id += 3\n",
    "                continue\n",
    "            else:\n",
    "                result +=  'self.find(\"{}\")'.format(word[id])\n",
    "            id += 1\n",
    "        return result\n",
    "    \n",
    "    def hightlight(self, doc, keywords):\n",
    "        '''\n",
    "        hightlight keywords in doc\n",
    "        '''\n",
    "        sign = ['(', ')', 'and', 'AND', 'or', 'OR', 'not', 'NOT', ' ']\n",
    "        for word in list(jieba.cut(keywords)):\n",
    "            if word not in sign:\n",
    "                doc = doc.replace(word, '<span style=\"color:red\">{}</span>'.format(word))\n",
    "        return doc\n",
    "\n",
    "    def search(self, keywords):\n",
    "        '''\n",
    "        searh keywords in doc_list by invert search\n",
    "        '''\n",
    "        result = []\n",
    "        result_ = self.convert(keywords)\n",
    "        print(result_)\n",
    "        print(eval(result_))\n",
    "        for id in eval(result_):\n",
    "            result.append(self.hightlight(self.doc_list[id], keywords))\n",
    "        return result\n",
    "\n",
    "searcher = InvertSearch('titles.txt')\n",
    "#keywords = '苹果模式 and (三星 or 华为)'\n",
    "#keywords = '苹果   模式 and (三星 or 华为)'\n",
    "keywords = '华为'\n",
    "# keywords = '苹果 芯片 - 华为'\n",
    "for doc in searcher.search(keywords):\n",
    "    display(HTML(doc))"
   ]
  },
  {
   "cell_type": "code",
   "execution_count": 3,
   "metadata": {},
   "outputs": [
    {
     "name": "stdout",
     "output_type": "stream",
     "text": [
      "华为| |not| |(|苹果|模式| |or| |苹果| |芯片|)\n",
      "self.find(\"华为\") - (self.find(\"苹果\") & self.find(\"模式\") | self.find(\"苹果\") & self.find(\"芯片\"))\n",
      "{320, 385, 448, 165, 485, 363, 173, 242, 407, 281, 27}\n"
     ]
    },
    {
     "data": {
      "text/html": [
       "全民支持的<span style=\"color:red\">华为</span>为何输给了iPhone XR？\n"
      ],
      "text/plain": [
       "<IPython.core.display.HTML object>"
      ]
     },
     "metadata": {},
     "output_type": "display_data"
    },
    {
     "data": {
      "text/html": [
       "<span style=\"color:red\">华为</span>发布Mate30系列手机：电池最大4500m\n"
      ],
      "text/plain": [
       "<IPython.core.display.HTML object>"
      ]
     },
     "metadata": {},
     "output_type": "display_data"
    },
    {
     "data": {
      "text/html": [
       "与<span style=\"color:red\">华为</span>5G\"近身肉搏\" 美国<span style=\"color:red\">芯片</span>巨头高通\"放大招\n"
      ],
      "text/plain": [
       "<IPython.core.display.HTML object>"
      ]
     },
     "metadata": {},
     "output_type": "display_data"
    },
    {
     "data": {
      "text/html": [
       "iPhone11和<span style=\"color:red\">华为</span>Mate30拍照对比：差距\n"
      ],
      "text/plain": [
       "<IPython.core.display.HTML object>"
      ]
     },
     "metadata": {},
     "output_type": "display_data"
    },
    {
     "data": {
      "text/html": [
       "任正非:我不是中国乔布斯 <span style=\"color:red\">华为</span>永远都拥抱美国公\n"
      ],
      "text/plain": [
       "<IPython.core.display.HTML object>"
      ]
     },
     "metadata": {},
     "output_type": "display_data"
    },
    {
     "data": {
      "text/html": [
       "任正非：我不是中国乔布斯 <span style=\"color:red\">华为</span>永远会拥抱美国 \n"
      ],
      "text/plain": [
       "<IPython.core.display.HTML object>"
      ]
     },
     "metadata": {},
     "output_type": "display_data"
    },
    {
     "data": {
      "text/html": [
       "外媒评<span style=\"color:red\">华为</span>Mate 30 Pro：硬件超棒 软件\n"
      ],
      "text/plain": [
       "<IPython.core.display.HTML object>"
      ]
     },
     "metadata": {},
     "output_type": "display_data"
    },
    {
     "data": {
      "text/html": [
       "任正非：我不是中国乔布斯 <span style=\"color:red\">华为</span>永远会拥抱美国公司\n"
      ],
      "text/plain": [
       "<IPython.core.display.HTML object>"
      ]
     },
     "metadata": {},
     "output_type": "display_data"
    },
    {
     "data": {
      "text/html": [
       "<span style=\"color:red\">华为</span>Mate30采用安卓系统 未采用鸿蒙OS\n"
      ],
      "text/plain": [
       "<IPython.core.display.HTML object>"
      ]
     },
     "metadata": {},
     "output_type": "display_data"
    },
    {
     "data": {
      "text/html": [
       "可安装谷歌GMS！<span style=\"color:red\">华为</span>Mate30确认支持Boo\n"
      ],
      "text/plain": [
       "<IPython.core.display.HTML object>"
      ]
     },
     "metadata": {},
     "output_type": "display_data"
    },
    {
     "data": {
      "text/html": [
       "比亚迪\"救火\"<span style=\"color:red\">华为</span> 这组深圳\"CP\"要擦出5G火\n"
      ],
      "text/plain": [
       "<IPython.core.display.HTML object>"
      ]
     },
     "metadata": {},
     "output_type": "display_data"
    }
   ],
   "source": [
    "searcher = InvertSearch('titles.txt')\n",
    "#keywords = '苹果模式 and (三星 or 华为)'\n",
    "#keywords = '苹果   模式 and (三星 or 华为)'\n",
    "keywords = '华为 not (苹果模式 or 苹果 芯片)'\n",
    "for doc in searcher.search(keywords):\n",
    "    display(HTML(doc))"
   ]
  }
 ],
 "metadata": {
  "kernelspec": {
   "display_name": "Python 3",
   "language": "python",
   "name": "python3"
  },
  "language_info": {
   "codemirror_mode": {
    "name": "ipython",
    "version": 3
   },
   "file_extension": ".py",
   "mimetype": "text/x-python",
   "name": "python",
   "nbconvert_exporter": "python",
   "pygments_lexer": "ipython3",
   "version": "3.6.5"
  }
 },
 "nbformat": 4,
 "nbformat_minor": 2
}
