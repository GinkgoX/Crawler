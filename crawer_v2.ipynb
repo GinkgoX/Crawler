{
 "cells": [
  {
   "cell_type": "code",
   "execution_count": 19,
   "metadata": {},
   "outputs": [
    {
     "data": {
      "text/html": [
       "<span style=\"color:red\">中国</span><span style=\"color:red\">女排</span>3-0横扫阿根廷 <span style=\"color:red\">女排</span>世界杯11战全胜!"
      ],
      "text/plain": [
       "<IPython.core.display.HTML object>"
      ]
     },
     "metadata": {},
     "output_type": "display_data"
    },
    {
     "data": {
      "text/html": [
       "习近平致电祝贺<span style=\"color:red\">中国</span><span style=\"color:red\">女排</span>夺得2019年<span style=\"color:red\">女排</span>世界杯冠"
      ],
      "text/plain": [
       "<IPython.core.display.HTML object>"
      ]
     },
     "metadata": {},
     "output_type": "display_data"
    },
    {
     "data": {
      "text/html": [
       "<span style=\"color:red\">中国</span><span style=\"color:red\">女排</span>16位队员手拉手领奖 郎导头排领唱国歌"
      ],
      "text/plain": [
       "<IPython.core.display.HTML object>"
      ]
     },
     "metadata": {},
     "output_type": "display_data"
    },
    {
     "data": {
      "text/html": [
       "<span style=\"color:red\">中国</span><span style=\"color:red\">女排</span>11连胜夺冠 郎平一个决定让自己哽咽难抑"
      ],
      "text/plain": [
       "<IPython.core.display.HTML object>"
      ]
     },
     "metadata": {},
     "output_type": "display_data"
    },
    {
     "data": {
      "text/html": [
       "<span style=\"color:red\">中国</span>又<span style=\"color:red\">发现</span>10亿吨级大油田！四川页岩气也获进展"
      ],
      "text/plain": [
       "<IPython.core.display.HTML object>"
      ]
     },
     "metadata": {},
     "output_type": "display_data"
    },
    {
     "data": {
      "text/html": [
       "<span style=\"color:red\">中国</span>又<span style=\"color:red\">发现</span>10亿吨级大油田 这只巨无霸暴涨160"
      ],
      "text/plain": [
       "<IPython.core.display.HTML object>"
      ]
     },
     "metadata": {},
     "output_type": "display_data"
    },
    {
     "data": {
      "text/html": [
       "颁奖典礼高能！<span style=\"color:red\">中国</span><span style=\"color:red\">女排</span>齐声高喊这句话，燃炸了！"
      ],
      "text/plain": [
       "<IPython.core.display.HTML object>"
      ]
     },
     "metadata": {},
     "output_type": "display_data"
    },
    {
     "data": {
      "text/html": [
       "<span style=\"color:red\">中国</span><span style=\"color:red\">女排</span>凌晨降落北京机场 现场球迷立刻沸腾"
      ],
      "text/plain": [
       "<IPython.core.display.HTML object>"
      ]
     },
     "metadata": {},
     "output_type": "display_data"
    }
   ],
   "source": [
    "import jieba\n",
    "import requests\n",
    "from bs4 import BeautifulSoup\n",
    "from IPython.display import HTML\n",
    "\n",
    "url = 'http://news.163.com/special/0001386F/rank_whole.html'\n",
    "news = requests.get(url).text\n",
    "soup = BeautifulSoup(news, 'lxml')\n",
    "titles = soup.find('div', 'area areabg1').find_all('a', limit=100)\n",
    "titles = set(titles)\n",
    "\n",
    "# keywords = '中国 华为'\n",
    "# keywords = '中国华为'\n",
    "keywords = '中国 and (女排 or 发现)'\n",
    "keywords_ = ' '.join(jieba.cut(keywords))\n",
    "keywords_ = keywords_.split()\n",
    "def word_match(word, title):\n",
    "    return (word in title)\n",
    "\n",
    "for title in titles:\n",
    "    if word_match(keywords_[0], title.text) and (word_match(keywords_[3], title.text) or word_match(keywords_[5], title.text)):\n",
    "        title = title.text.replace(keywords_[0], '<span style=\"color:red\">{}</span>'.format(keywords_[0]))\n",
    "        title = title.replace(keywords_[3], '<span style=\"color:red\">{}</span>'.format(keywords_[3]))\n",
    "        title = title.replace(keywords_[5], '<span style=\"color:red\">{}</span>'.format(keywords_[5]))\n",
    "        display(HTML(title))"
   ]
  }
 ],
 "metadata": {
  "kernelspec": {
   "display_name": "Python 3",
   "language": "python",
   "name": "python3"
  },
  "language_info": {
   "codemirror_mode": {
    "name": "ipython",
    "version": 3
   },
   "file_extension": ".py",
   "mimetype": "text/x-python",
   "name": "python",
   "nbconvert_exporter": "python",
   "pygments_lexer": "ipython3",
   "version": "3.6.5"
  }
 },
 "nbformat": 4,
 "nbformat_minor": 2
}
