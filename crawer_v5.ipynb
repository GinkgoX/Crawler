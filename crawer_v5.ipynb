{
 "cells": [
  {
   "cell_type": "code",
   "execution_count": 6,
   "metadata": {},
   "outputs": [],
   "source": [
    "from IPython.display import HTML\n",
    "import jieba\n",
    "\n",
    "class InvertSearch():\n",
    "    '''\n",
    "    InvertSearch() class convert forward seach to backword seach\n",
    "    '''\n",
    "    def __init__(self, doc_file):\n",
    "        '''\n",
    "        init term, doc_id, doc_list from doc_file\n",
    "        '''\n",
    "        self.terms = dict()\n",
    "        self.doc_id = 0\n",
    "        self.doc_list = []\n",
    "        \n",
    "        #read doc_file\n",
    "        with open(doc_file, 'r') as f:\n",
    "            data= f.readlines()\n",
    "            data = set(data)\n",
    "            f.close()\n",
    "        \n",
    "        #update doc_listselfand doc_id, terms\n",
    "        for doc in data:\n",
    "            self.insert(doc)\n",
    "\n",
    "    def insert(self, doc):\n",
    "        '''\n",
    "        insert doc into doc_list return doc_id\n",
    "        '''\n",
    "        self.doc_list.append(doc)\n",
    "        for term in list(jieba.cut(doc)):\n",
    "            if term not in self.terms:\n",
    "                self.terms[term] = set([self.doc_id])\n",
    "            self.terms[term].add(self.doc_id)\n",
    "        self.doc_id += 1\n",
    "        return self.doc_id - 1\n",
    "    \n",
    "    def find(self, keywords):\n",
    "        '''\n",
    "        find keywords in terms reuturn each term set result\n",
    "        '''\n",
    "        result = None\n",
    "        for word in list(jieba.cut(keywords)):\n",
    "            if result is None:\n",
    "                result = self.terms.get(word, set())\n",
    "            else:\n",
    "                result = result & self.terms.get(word, set())\n",
    "        if result is None:\n",
    "            result = set()\n",
    "        return result\n",
    "    \n",
    "    def convert(self, keywords):\n",
    "        '''\n",
    "        convert keywords into set expression\n",
    "        '''\n",
    "        result = ''\n",
    "        #convet keywords to standard match format\n",
    "        keywords_ = keywords.split()\n",
    "        keywords = ' '.join(keywords_)\n",
    "        word = list(jieba.cut(keywords))\n",
    "        print('|'.join(word))\n",
    "        sign = ['(', ')', 'and', 'AND', 'or', 'OR', 'not', 'NOT', '-', ' ']\n",
    "        id = 0\n",
    "        num = len(word)\n",
    "        while id < num:\n",
    "            if word[id] == '(' or word[id] == ')' or word[id] == ' ':\n",
    "                result += word[id]\n",
    "            elif word[id] == 'and' or word[id] == 'AND':\n",
    "                result += '&'\n",
    "            elif word[id] == 'or' or word[id] == 'OR':\n",
    "                result += '|'\n",
    "            elif word[id] == 'not' or word[id] == 'NOT'or word[id] == '-':\n",
    "                result += '-'\n",
    "            elif id + 1 < num and word[id+1] not in(' ', ')'):\n",
    "                result +=  'self.find(\"{}\")'.format(word[id]) + ' & '\n",
    "            elif id + 2< num and word[id+2] not in sign:\n",
    "                result += 'self.find(\"{}\")'.format(word[id]) + ' & ' 'self.find(\"{}\")'.format(word[id+2])\n",
    "                id += 3\n",
    "                continue\n",
    "            else:\n",
    "                result +=  'self.find(\"{}\")'.format(word[id])\n",
    "            id += 1\n",
    "        return result\n",
    "    \n",
    "    def hightlight(self, doc, keywords):\n",
    "        '''\n",
    "        hightlight keywords in doc\n",
    "        '''\n",
    "        sign = ['(', ')', 'and', 'AND', 'or', 'OR', 'not', 'NOT', '-', ' ']\n",
    "        for word in list(jieba.cut(keywords)):\n",
    "            if word not in sign:\n",
    "                doc = doc.replace(word, '<span style=\"color:red\">{}</span>'.format(word))\n",
    "        return doc\n",
    "\n",
    "    def search(self, keywords):\n",
    "        '''\n",
    "        searh keywords in doc_list by invert search\n",
    "        '''\n",
    "        result = []\n",
    "        result_ = self.convert(keywords)\n",
    "        print(result_)\n",
    "        print(eval(result_))\n",
    "        for id in eval(result_):\n",
    "            result.append(self.hightlight(self.doc_list[id], keywords))\n",
    "        return result"
   ]
  },
  {
   "cell_type": "code",
   "execution_count": 9,
   "metadata": {},
   "outputs": [
    {
     "name": "stdout",
     "output_type": "stream",
     "text": [
      "中国女排\n",
      "self.find(\"中国女排\")\n",
      "{377, 378, 5}\n"
     ]
    },
    {
     "data": {
      "text/html": [
       "碾压！<span style=\"color:red\">中国女排</span>3-0横扫日本 世界杯轻取五连胜\n"
      ],
      "text/plain": [
       "<IPython.core.display.HTML object>"
      ]
     },
     "metadata": {},
     "output_type": "display_data"
    },
    {
     "data": {
      "text/html": [
       "3-2艰难逆转!<span style=\"color:red\">中国女排</span>力挫巴西 惊险夺世界杯6\n"
      ],
      "text/plain": [
       "<IPython.core.display.HTML object>"
      ]
     },
     "metadata": {},
     "output_type": "display_data"
    },
    {
     "data": {
      "text/html": [
       "一边倒！<span style=\"color:red\">中国女排</span>3-0横扫美国取七连胜 朱婷23\n"
      ],
      "text/plain": [
       "<IPython.core.display.HTML object>"
      ]
     },
     "metadata": {},
     "output_type": "display_data"
    }
   ],
   "source": [
    "doc_file = 'titles.txt'\n",
    "searcher = InvertSearch(doc_file)\n",
    "keywords = '中国女排'\n",
    "for doc in searcher.search(keywords):\n",
    "    display(HTML(doc))"
   ]
  },
  {
   "cell_type": "code",
   "execution_count": 18,
   "metadata": {},
   "outputs": [
    {
     "name": "stdout",
     "output_type": "stream",
     "text": [
      "['一边倒！中国女排', '3-0', '横扫美国取七连胜 朱婷', '23']\n"
     ]
    }
   ],
   "source": [
    "import string\n",
    "doc = '一边倒！中国女排3-0横扫美国取七连胜 朱婷23'\n",
    "result = []\n",
    "state_last = ''\n",
    "cache = ''\n",
    "for c in doc:\n",
    "    state_cur = (c in string.ascii_letters or c.isdigit()\n",
    "                or c in ('-', ':', '.'))\n",
    "    #print(c, state_c)\n",
    "    if state_cur == state_last:\n",
    "        cache += c\n",
    "    else:\n",
    "        if state_last != '':\n",
    "            result.append(cache)\n",
    "        cache = c\n",
    "    state_last = state_cur\n",
    "if cache:\n",
    "    result.append(cache)\n",
    "print(result)"
   ]
  },
  {
   "cell_type": "markdown",
   "metadata": {},
   "source": [
    "homework: conv_query, word_match for parse_doc\n",
    "\n",
    "待提升方面：\n",
    "\n",
    "1、注释完整性\n",
    "\n",
    "新功能完善：\n",
    "\n",
    "1、类的继承、重载\n",
    "\n",
    "2、更新conv_query(), word_match方法,完成对' ', '3-0',中英文分词查询\n"
   ]
  }
 ],
 "metadata": {
  "file_extension": ".py",
  "kernelspec": {
   "display_name": "Python 3",
   "language": "python",
   "name": "python3"
  },
  "language_info": {
   "codemirror_mode": {
    "name": "ipython",
    "version": 3
   },
   "file_extension": ".py",
   "mimetype": "text/x-python",
   "name": "python",
   "nbconvert_exporter": "python",
   "pygments_lexer": "ipython3",
   "version": "3.6.5"
  },
  "mimetype": "text/x-python",
  "name": "python",
  "npconvert_exporter": "python",
  "pygments_lexer": "ipython3",
  "version": 3
 },
 "nbformat": 4,
 "nbformat_minor": 2
}
