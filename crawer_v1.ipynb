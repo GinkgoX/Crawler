{
 "cells": [
  {
   "cell_type": "markdown",
   "metadata": {},
   "source": [
    "web search engine\n"
   ]
  },
  {
   "cell_type": "code",
   "execution_count": 5,
   "metadata": {},
   "outputs": [
    {
     "data": {
      "text/html": [
       "<span style=\"color:red\"><span style=\"color:red\"><span style=\"color:red\"><span style=\"color:red\"><span style=\"color:red\"><span style=\"color:red\"><span style=\"color:red\"><span style=\"color:red\"><span style=\"color:red\"><span style=\"color:red\"><span style=\"color:red\">苹果</span></span></span></span></span></span></span></span></span></span></span><span style=\"color:red\"><span style=\"color:red\"><span style=\"color:red\"><span style=\"color:red\"><span style=\"color:red\"><span style=\"color:red\"><span style=\"color:red\"><span style=\"color:red\"><span style=\"color:red\"><span style=\"color:red\"><span style=\"color:red\">芯片</span></span></span></span></span></span></span></span></span></span></span>:xx<span style=\"color:red\"><span style=\"color:red\"><span style=\"color:red\"><span style=\"color:red\"><span style=\"color:red\"><span style=\"color:red\"><span style=\"color:red\"><span style=\"color:red\"><span style=\"color:red\"><span style=\"color:red\"><span style=\"color:red\">芯片</span></span></span></span></span></span></span></span></span></span></span>"
      ],
      "text/plain": [
       "<IPython.core.display.HTML object>"
      ]
     },
     "metadata": {},
     "output_type": "display_data"
    },
    {
     "data": {
      "text/html": [
       "<span style=\"color:red\"><span style=\"color:red\"><span style=\"color:red\"><span style=\"color:red\"><span style=\"color:red\"><span style=\"color:red\"><span style=\"color:red\"><span style=\"color:red\"><span style=\"color:red\"><span style=\"color:red\"><span style=\"color:red\">苹果</span></span></span></span></span></span></span></span></span></span></span><span style=\"color:red\"><span style=\"color:red\"><span style=\"color:red\"><span style=\"color:red\"><span style=\"color:red\"><span style=\"color:red\"><span style=\"color:red\"><span style=\"color:red\"><span style=\"color:red\"><span style=\"color:red\"><span style=\"color:red\">芯片</span></span></span></span></span></span></span></span></span></span></span>2"
      ],
      "text/plain": [
       "<IPython.core.display.HTML object>"
      ]
     },
     "metadata": {},
     "output_type": "display_data"
    },
    {
     "data": {
      "text/html": [
       "<span style=\"color:red\"><span style=\"color:red\"><span style=\"color:red\"><span style=\"color:red\"><span style=\"color:red\"><span style=\"color:red\"><span style=\"color:red\"><span style=\"color:red\"><span style=\"color:red\"><span style=\"color:red\"><span style=\"color:red\">苹果</span></span></span></span></span></span></span></span></span></span></span>vs<span style=\"color:red\"><span style=\"color:red\"><span style=\"color:red\"><span style=\"color:red\"><span style=\"color:red\"><span style=\"color:red\"><span style=\"color:red\"><span style=\"color:red\"><span style=\"color:red\"><span style=\"color:red\"><span style=\"color:red\">高通</span></span></span></span></span></span></span></span></span></span></span>"
      ],
      "text/plain": [
       "<IPython.core.display.HTML object>"
      ]
     },
     "metadata": {},
     "output_type": "display_data"
    }
   ],
   "source": [
    "from IPython.display import HTML\n",
    "import jieba\n",
    "titles = '''tenew\n",
    "        dfasf\n",
    "        fdssg\n",
    "        学生1\n",
    "        sfg \n",
    "        学生2\n",
    "        filess\n",
    "        华为1\n",
    "        华为2\n",
    "        苹果1\n",
    "        苹果芯片2\n",
    "        苹果芯片:xx芯片\n",
    "        苹果vs高通\n",
    "'''\n",
    "\n",
    "def word_match(word, title):\n",
    "    result = (word in title)\n",
    "    return result\n",
    "\n",
    "title_list = titles.split()\n",
    "# rmove the repeat items\n",
    "title_set = set(title_list)\n",
    "\n",
    "#keyword = '苹果芯片'\n",
    "#keyword = '苹果 华为'\n",
    "\n",
    "keyword = '苹果 and (芯片 or 高通)'\n",
    "keyword_ = '， '.join(jieba.cut(keyword))\n",
    "for title in title_set:\n",
    "    flag = False\n",
    "    #for word in keyword.split():\n",
    "    for word in keyword_.split():\n",
    "        #if word in title:\n",
    "        if(word_match('苹果', title) and (word_match('芯片', title) or word_match('高通', title))):\n",
    "            #set color for keyword\n",
    "            title = title.replace('苹果', '<span style=\"color:red\">{}</span>'.format('苹果'))\n",
    "            title = title.replace('芯片', '<span style=\"color:red\">{}</span>'.format('芯片'))\n",
    "            title = title.replace('高通', '<span style=\"color:red\">{}</span>'.format('高通'))\n",
    "            flag = True\n",
    "    if flag:\n",
    "        display(HTML(title))"
   ]
  }
 ],
 "metadata": {
  "kernelspec": {
   "display_name": "Python 3",
   "language": "python",
   "name": "python3"
  },
  "language_info": {
   "codemirror_mode": {
    "name": "ipython",
    "version": 3
   },
   "file_extension": ".py",
   "mimetype": "text/x-python",
   "name": "python",
   "nbconvert_exporter": "python",
   "pygments_lexer": "ipython3",
   "version": "3.6.5"
  }
 },
 "nbformat": 4,
 "nbformat_minor": 2
}
