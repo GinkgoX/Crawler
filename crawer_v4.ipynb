{
 "cells": [
  {
   "cell_type": "code",
   "execution_count": 27,
   "metadata": {},
   "outputs": [
    {
     "data": {
      "text/html": [
       "外媒揭秘<span style=\"color:red\">苹果</span>A13<span style=\"color:red\">芯片</span>：比三星华为<span style=\"color:red\">高通</span><span style=\"color:red\">芯片</span>好在哪"
      ],
      "text/plain": [
       "<IPython.core.display.HTML object>"
      ]
     },
     "metadata": {},
     "output_type": "display_data"
    }
   ],
   "source": [
    "import jieba\n",
    "from IPython.display import HTML\n",
    "\n",
    "class Searcher():\n",
    "    def __init__(self, filename):\n",
    "        '''\n",
    "        __init__(self, filename): get the filename date\n",
    "        '''\n",
    "        with open(filename, 'r') as f:\n",
    "            titles = f.read()\n",
    "        self.titles = list(set(titles.split()))\n",
    "\n",
    "    def word_match(self, word, title):\n",
    "        '''\n",
    "        word_match(word, title): match word with tile\n",
    "        '''\n",
    "        return (word in title)\n",
    "\n",
    "    def conv_query(self, keywards):\n",
    "        '''\n",
    "        conv_query(keywards): convert keywards to string expresssion\n",
    "        '''\n",
    "        result = ' '\n",
    "        signlist = ['and', 'AND', 'or', 'OR', 'not', 'NOT', '(', ')', ' ']\n",
    "        for word in jieba.cut(keywards):\n",
    "            if word == '(' or word == ')' or word == ' ':\n",
    "                result += ' ' + word\n",
    "            elif word in signlist:\n",
    "                result += ' ' + word.lower()\n",
    "            else:\n",
    "                result += ' ' + f'self.word_match(\"{word}\", title)'\n",
    "        return result\n",
    "\n",
    "    def hightlight(self, title, keywards):\n",
    "        '''\n",
    "        hightlight(title, keywards): hightlight each word in keywards appears in title\n",
    "        '''\n",
    "        signlist = ['and', 'AND', 'or', 'OR', 'not', 'NOT', '(', ')', ' ']\n",
    "        for word in jieba.cut(keywards):\n",
    "            if word not in signlist:\n",
    "                title = title.replace(word, '<span style=\"color:red\">{}</span>'.format(word))\n",
    "        return title\n",
    "\n",
    "    def search(self, keywards):\n",
    "        '''\n",
    "        serch(keywards): search the keywards expression in data\n",
    "        '''\n",
    "        result = conv_query(keywards)\n",
    "        for title in self.titles:\n",
    "            if eval(result):\n",
    "                display(HTML(self.hightlight(title, keywards))) \n",
    "\n",
    "filename = 'titles.txt'\n",
    "keywards = '苹果 and (芯片 or 高通)'\n",
    "searcher = Searcher(filename)\n",
    "searcher.search(keywards)"
   ]
  },
  {
   "cell_type": "code",
   "execution_count": 23,
   "metadata": {},
   "outputs": [
    {
     "data": {
      "text/html": [
       "怼完<span style=\"color:red\">苹果</span>怼<span style=\"color:red\">三星</span>，刚发了Mate30的余承东依然要\n"
      ],
      "text/plain": [
       "<IPython.core.display.HTML object>"
      ]
     },
     "metadata": {},
     "output_type": "display_data"
    },
    {
     "data": {
      "text/html": [
       "外媒揭秘<span style=\"color:red\">苹果</span>A13芯片：比<span style=\"color:red\">三星</span><span style=\"color:red\">华为</span>高通芯片好在哪\n"
      ],
      "text/plain": [
       "<IPython.core.display.HTML object>"
      ]
     },
     "metadata": {},
     "output_type": "display_data"
    },
    {
     "data": {
      "text/html": [
       "<span style=\"color:red\">苹果</span>首次怼<span style=\"color:red\">华为</span> 是因抢跑5G的<span style=\"color:red\">华为</span>走向了<span style=\"color:red\">苹果</span>模式\n"
      ],
      "text/plain": [
       "<IPython.core.display.HTML object>"
      ]
     },
     "metadata": {},
     "output_type": "display_data"
    }
   ],
   "source": [
    "import jieba\n",
    "from IPython.display import HTML\n",
    "\n",
    "def invert_index(titles):\n",
    "    '''\n",
    "    invert_index(titles): set up the inverted index\n",
    "    '''\n",
    "    term_dict = dict()\n",
    "    doc_id = 0\n",
    "    doc_list = []\n",
    "    for title in titles:\n",
    "        doc_list.append(title)\n",
    "        for term in jieba.cut(title):\n",
    "            if term not in term_dict:\n",
    "                term_dict[term] = set()\n",
    "            term_dict[term].add(doc_id)\n",
    "        doc_id += 1\n",
    "    return term_dict, doc_list\n",
    "\n",
    "def convert_match(keywards):\n",
    "    '''\n",
    "    convert_match(keywards): convert keywards to set expression\n",
    "    '''\n",
    "    result = ''\n",
    "    for word in jieba.cut(keywards):\n",
    "        if word == '(' or word == ')' or word == ' ':\n",
    "            result += ' ' + word\n",
    "        elif word == 'and' or word == 'AND':\n",
    "            result += ' ' + '&'\n",
    "        elif word == 'or' or word == 'OR':\n",
    "            result += ' ' + '|'\n",
    "        else:\n",
    "            result += ' ' + f'term_dict[\"{word}\"]'\n",
    "    return result\n",
    "\n",
    "def invert_search(keywards):\n",
    "    '''\n",
    "    invert_search(keywards): to search keywards by inverted index method\n",
    "    '''\n",
    "    signlist = ['and', 'AND', 'or', 'OR', 'not', 'NOT', '(', ')', ' ']\n",
    "    term_dict, doc_list = invert_index(titles)\n",
    "    doc_ids = eval(convert_match(keywards))\n",
    "    for doc_id in doc_ids:\n",
    "        for word in jieba.cut(keywards):\n",
    "            if word not in signlist and word in doc_list[doc_id]:\n",
    "                doc_list[doc_id] = doc_list[doc_id].replace(word, '<span style=\"color:red\">{}</span>'.format(word))\n",
    "        display(HTML(doc_list[doc_id]))\n",
    "\n",
    "with open('titles.txt', 'r') as f:\n",
    "    titles = f.readlines()\n",
    "    f.close()\n",
    "titles = list(set(titles))\n",
    "#keywards = '苹果 or (三星 and 华为)'\n",
    "keywards = '苹果 and (三星 or 华为)'\n",
    "invert_search(keywards)"
   ]
  },
  {
   "cell_type": "markdown",
   "metadata": {},
   "source": [
    "homework: 苹果芯片 and (三星 or 华为)\n",
    "待提升方面：\n",
    "\n",
    "1、将倒排索引方法封装成类\n",
    "\n",
    "2、将初始化方法封装成add_doc()函数\n",
    "\n",
    "\n",
    "新功能完善：\n",
    "\n",
    "1、更新word_match()方法\n",
    "\n",
    "2、更新conv_query()方法\n"
   ]
  }
 ],
 "metadata": {
  "kernelspec": {
   "display_name": "Python 3",
   "language": "python",
   "name": "python3"
  },
  "language_info": {
   "codemirror_mode": {
    "name": "ipython",
    "version": 3
   },
   "file_extension": ".py",
   "mimetype": "text/x-python",
   "name": "python",
   "nbconvert_exporter": "python",
   "pygments_lexer": "ipython3",
   "version": "3.6.5"
  }
 },
 "nbformat": 4,
 "nbformat_minor": 2
}
